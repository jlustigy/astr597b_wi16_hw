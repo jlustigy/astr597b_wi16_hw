{
 "cells": [
  {
   "cell_type": "markdown",
   "metadata": {},
   "source": [
    "# Importing *Kepler* data into LSD"
   ]
  },
  {
   "cell_type": "code",
   "execution_count": 2,
   "metadata": {
    "collapsed": true
   },
   "outputs": [],
   "source": [
    "%matplotlib inline\n",
    "import numpy as np\n",
    "import matplotlib.pyplot as plt\n",
    "from astropy.table import Table\n",
    "import pandas as pd\n",
    "import sqlite3"
   ]
  },
  {
   "cell_type": "code",
   "execution_count": 3,
   "metadata": {
    "collapsed": true
   },
   "outputs": [],
   "source": [
    "from lsd import DB\n",
    "from lsd.bounds import beam, rectangle\n",
    "from astropy.table import Table, Column"
   ]
  },
  {
   "cell_type": "markdown",
   "metadata": {},
   "source": [
    "## Set environment variables"
   ]
  },
  {
   "cell_type": "code",
   "execution_count": 4,
   "metadata": {
    "collapsed": false
   },
   "outputs": [
    {
     "name": "stdout",
     "output_type": "stream",
     "text": [
      "8\n",
      "/astro/users/jlustigy/Courses/big_data/lsdtemp/\n",
      "/astro/users/jlustigy/Courses/big_data/lsdtemp/\n",
      "/astro/users/jlustigy/Courses/big_data/lsdtemp/\n"
     ]
    }
   ],
   "source": [
    "import os\n",
    "\n",
    "os.environ['NWORKERS'] = '8'\n",
    "os.environ['LSD_DB'] = '/astro/users/jlustigy/Courses/big_data/lsdtemp/'\n",
    "os.environ['LSD_CACHEDIR'] = '/astro/users/jlustigy/Courses/big_data/lsdtemp/'\n",
    "os.environ['LSD_TEMPDIR'] = '/astro/users/jlustigy/Courses/big_data/lsdtemp/'\n",
    "\n",
    "print os.environ['NWORKERS']\n",
    "print os.environ['LSD_DB']\n",
    "print os.environ['LSD_CACHEDIR']\n",
    "print os.environ['LSD_TEMPDIR']"
   ]
  },
  {
   "cell_type": "markdown",
   "metadata": {},
   "source": [
    "## Get and inspect the kepler data  \n",
    "\n",
    "Here I am interested in both [Kepler Lightcurves](https://archive.stsci.edu/pub/kepler/lightcurves/) and [Kepler Target Pixel Files](https://archive.stsci.edu/pub/kepler/target_pixel_files/). I will write Table Schemas for both types of files. "
   ]
  },
  {
   "cell_type": "code",
   "execution_count": 5,
   "metadata": {
    "collapsed": false
   },
   "outputs": [
    {
     "name": "stderr",
     "output_type": "stream",
     "text": [
      "WARNING: UnitsWarning: 'BJD - 2454833' did not parse as fits unit: At col 0, Unit 'BJD' not supported by the FITS standard.  [astropy.units.core]\n",
      "WARNING:astropy:UnitsWarning: 'BJD - 2454833' did not parse as fits unit: At col 0, Unit 'BJD' not supported by the FITS standard. \n",
      "WARNING: UnitsWarning: 'e-/s' did not parse as fits unit: At col 0, Unit 'e' not supported by the FITS standard.  [astropy.units.core]\n",
      "WARNING:astropy:UnitsWarning: 'e-/s' did not parse as fits unit: At col 0, Unit 'e' not supported by the FITS standard. \n",
      "WARNING: UnitsWarning: 'pixels' did not parse as fits unit: At col 0, Unit 'pixels' not supported by the FITS standard. Did you mean pixel? [astropy.units.core]\n",
      "WARNING:astropy:UnitsWarning: 'pixels' did not parse as fits unit: At col 0, Unit 'pixels' not supported by the FITS standard. Did you mean pixel?\n"
     ]
    }
   ],
   "source": [
    "# Read Kepler Lightcurve file\n",
    "t_llc = Table.read('kplr000757076-2009131105131_llc.fits')"
   ]
  },
  {
   "cell_type": "code",
   "execution_count": 6,
   "metadata": {
    "collapsed": false
   },
   "outputs": [
    {
     "name": "stderr",
     "output_type": "stream",
     "text": [
      "WARNING: UnitsWarning: 'sigma' did not parse as fits unit: At col 0, Unit 'sigma' not supported by the FITS standard.  [astropy.units.core]\n",
      "WARNING:astropy:UnitsWarning: 'sigma' did not parse as fits unit: At col 0, Unit 'sigma' not supported by the FITS standard. \n"
     ]
    }
   ],
   "source": [
    "# Read Kepler Target Pixel File\n",
    "t_lpd = Table.read('kplr001429092-2009259160929_lpd-targ.fits.gz')"
   ]
  },
  {
   "cell_type": "code",
   "execution_count": 7,
   "metadata": {
    "collapsed": false
   },
   "outputs": [
    {
     "name": "stdout",
     "output_type": "stream",
     "text": [
      "(time, >f8)\n",
      "(timecorr, >f4)\n",
      "(cadenceno, >i4)\n",
      "(sap_flux, >f4)\n",
      "(sap_flux_err, >f4)\n",
      "(sap_bkg, >f4)\n",
      "(sap_bkg_err, >f4)\n",
      "(pdcsap_flux, >f4)\n",
      "(pdcsap_flux_err, >f4)\n",
      "(sap_quality, >i4)\n",
      "(psf_centr1, >f8)\n",
      "(psf_centr1_err, >f4)\n",
      "(psf_centr2, >f8)\n",
      "(psf_centr2_err, >f4)\n",
      "(mom_centr1, >f8)\n",
      "(mom_centr1_err, >f4)\n",
      "(mom_centr2, >f8)\n",
      "(mom_centr2_err, >f4)\n",
      "(pos_corr1, >f4)\n",
      "(pos_corr2, >f4)\n"
     ]
    }
   ],
   "source": [
    "# Check column names and datatypes\n",
    "for column in t_llc.dtype.names:\n",
    "    print \"(%s, %s)\" % (column.lower(), t_llc[column].dtype)"
   ]
  },
  {
   "cell_type": "code",
   "execution_count": 8,
   "metadata": {
    "collapsed": false
   },
   "outputs": [
    {
     "name": "stdout",
     "output_type": "stream",
     "text": [
      "(time, >f8)\n",
      "(timecorr, >f4)\n",
      "(cadenceno, >i4)\n",
      "(raw_cnts, >i4)\n",
      "(flux, >f4)\n",
      "(flux_err, >f4)\n",
      "(flux_bkg, >f4)\n",
      "(flux_bkg_err, >f4)\n",
      "(cosmic_rays, >f4)\n",
      "(quality, >i4)\n",
      "(pos_corr1, >f4)\n",
      "(pos_corr2, >f4)\n",
      "(rb_level, >f4)\n"
     ]
    }
   ],
   "source": [
    "# Check column names and datatypes\n",
    "for column in t_lpd.dtype.names:\n",
    "    print \"(%s, %s)\" % (column.lower(), t_lpd[column].dtype)"
   ]
  },
  {
   "cell_type": "code",
   "execution_count": 9,
   "metadata": {
    "collapsed": false
   },
   "outputs": [
    {
     "data": {
      "text/html": [
       "&lt;Table length=1&gt;\n",
       "<table id=\"table139963534594704\">\n",
       "<thead><tr><th>TIME</th><th>TIMECORR</th><th>CADENCENO</th><th>SAP_FLUX</th><th>SAP_FLUX_ERR</th><th>SAP_BKG</th><th>SAP_BKG_ERR</th><th>PDCSAP_FLUX</th><th>PDCSAP_FLUX_ERR</th><th>SAP_QUALITY</th><th>PSF_CENTR1</th><th>PSF_CENTR1_ERR</th><th>PSF_CENTR2</th><th>PSF_CENTR2_ERR</th><th>MOM_CENTR1</th><th>MOM_CENTR1_ERR</th><th>MOM_CENTR2</th><th>MOM_CENTR2_ERR</th><th>POS_CORR1</th><th>POS_CORR2</th></tr></thead>\n",
       "<thead><tr><th>BJD - 2454833</th><th>d</th><th></th><th>e-/s</th><th>e-/s</th><th>e-/s</th><th>e-/s</th><th>e-/s</th><th>e-/s</th><th></th><th>pix</th><th>pix</th><th>pix</th><th>pix</th><th>pix</th><th>pix</th><th>pix</th><th>pix</th><th>pixels</th><th>pixels</th></tr></thead>\n",
       "<thead><tr><th>float64</th><th>float32</th><th>int32</th><th>float32</th><th>float32</th><th>float32</th><th>float32</th><th>float32</th><th>float32</th><th>int32</th><th>float64</th><th>float32</th><th>float64</th><th>float32</th><th>float64</th><th>float32</th><th>float64</th><th>float32</th><th>float32</th><th>float32</th></tr></thead>\n",
       "<tr><td>120.53932244</td><td>0.00117002</td><td>568</td><td>304538.0</td><td>16.7787</td><td>5315.84</td><td>3.10501</td><td>315591.0</td><td>17.3685</td><td>0</td><td>nan</td><td>nan</td><td>nan</td><td>nan</td><td>23.3980294029</td><td>8.30202e-05</td><td>101.427953607</td><td>9.69935e-05</td><td>0.00776424</td><td>0.0114545</td></tr>\n",
       "</table>"
      ],
      "text/plain": [
       "<Table length=1>\n",
       "     TIME      TIMECORR  CADENCENO ... MOM_CENTR2_ERR POS_CORR1  POS_CORR2\n",
       "BJD - 2454833     d                ...      pix         pixels     pixels \n",
       "   float64     float32     int32   ...    float32      float32    float32 \n",
       "------------- ---------- --------- ... -------------- ---------- ---------\n",
       " 120.53932244 0.00117002       568 ...    9.69935e-05 0.00776424 0.0114545"
      ]
     },
     "execution_count": 9,
     "metadata": {},
     "output_type": "execute_result"
    }
   ],
   "source": [
    "# Inspect table \n",
    "t_llc[:1]"
   ]
  },
  {
   "cell_type": "code",
   "execution_count": 10,
   "metadata": {
    "collapsed": false
   },
   "outputs": [
    {
     "data": {
      "text/html": [
       "&lt;Table masked=True length=1&gt;\n",
       "<table id=\"table139963046369360\">\n",
       "<thead><tr><th>TIME</th><th>TIMECORR</th><th>CADENCENO</th><th>RAW_CNTS [4,6]</th><th>FLUX [4,6]</th><th>FLUX_ERR [4,6]</th><th>FLUX_BKG [4,6]</th><th>FLUX_BKG_ERR [4,6]</th><th>COSMIC_RAYS [4,6]</th><th>QUALITY</th><th>POS_CORR1</th><th>POS_CORR2</th><th>RB_LEVEL [4,5]</th></tr></thead>\n",
       "<thead><tr><th>BJD - 2454833</th><th>d</th><th></th><th>ct</th><th>e-/s</th><th>e-/s</th><th>e-/s</th><th>e-/s</th><th>e-/s</th><th></th><th>pix</th><th>pix</th><th>sigma</th></tr></thead>\n",
       "<thead><tr><th>float64</th><th>float32</th><th>int32</th><th>int32</th><th>float32</th><th>float32</th><th>float32</th><th>float32</th><th>float32</th><th>int32</th><th>float32</th><th>float32</th><th>float32</th></tr></thead>\n",
       "<tr><td>169.520777866</td><td>0.00330245</td><td>2965</td><td>421483 .. 425883</td><td>-10.6894 .. 319.626</td><td>1.46168 .. 1.55922</td><td>176.151 .. 175.997</td><td>0.119934 .. 0.115563</td><td>nan .. nan</td><td>256</td><td>0.0757977</td><td>0.22162</td><td>0.807526 .. 0.175194</td></tr>\n",
       "</table>"
      ],
      "text/plain": [
       "<Table masked=True length=1>\n",
       "     TIME      TIMECORR  CADENCENO ... POS_CORR1 POS_CORR2    RB_LEVEL [4,5]   \n",
       "BJD - 2454833     d                ...    pix       pix           sigma        \n",
       "   float64     float32     int32   ...  float32   float32        float32       \n",
       "------------- ---------- --------- ... --------- --------- --------------------\n",
       "169.520777866 0.00330245      2965 ... 0.0757977   0.22162 0.807526 .. 0.175194"
      ]
     },
     "execution_count": 10,
     "metadata": {},
     "output_type": "execute_result"
    }
   ],
   "source": [
    "# Inspect table \n",
    "t_lpd[:1]"
   ]
  },
  {
   "cell_type": "code",
   "execution_count": 11,
   "metadata": {
    "collapsed": true
   },
   "outputs": [],
   "source": [
    "# Read a different Target Pixel File\n",
    "t = Table.read('kplr001429153-2009259160929_lpd-targ.fits.gz')"
   ]
  },
  {
   "cell_type": "code",
   "execution_count": 12,
   "metadata": {
    "collapsed": false
   },
   "outputs": [
    {
     "data": {
      "text/html": [
       "&lt;Table masked=True length=1&gt;\n",
       "<table id=\"table139963046369552\">\n",
       "<thead><tr><th>TIME</th><th>TIMECORR</th><th>CADENCENO</th><th>RAW_CNTS [5,6]</th><th>FLUX [5,6]</th><th>FLUX_ERR [5,6]</th><th>FLUX_BKG [5,6]</th><th>FLUX_BKG_ERR [5,6]</th><th>COSMIC_RAYS [5,6]</th><th>QUALITY</th><th>POS_CORR1</th><th>POS_CORR2</th><th>RB_LEVEL [5,5]</th></tr></thead>\n",
       "<thead><tr><th>BJD - 2454833</th><th>d</th><th></th><th>ct</th><th>e-/s</th><th>e-/s</th><th>e-/s</th><th>e-/s</th><th>e-/s</th><th></th><th>pix</th><th>pix</th><th>sigma</th></tr></thead>\n",
       "<thead><tr><th>float64</th><th>float32</th><th>int32</th><th>int32</th><th>float32</th><th>float32</th><th>float32</th><th>float32</th><th>float32</th><th>int32</th><th>float32</th><th>float32</th><th>float32</th></tr></thead>\n",
       "<tr><td>169.520776917</td><td>0.0033015</td><td>2965</td><td>-- .. --</td><td>nan .. nan</td><td>nan .. nan</td><td>nan .. nan</td><td>nan .. nan</td><td>nan .. nan</td><td>256</td><td>0.0757166</td><td>0.221369</td><td>0.807526 .. 0.324147</td></tr>\n",
       "</table>"
      ],
      "text/plain": [
       "<Table masked=True length=1>\n",
       "     TIME      TIMECORR CADENCENO ... POS_CORR1 POS_CORR2    RB_LEVEL [5,5]   \n",
       "BJD - 2454833     d               ...    pix       pix           sigma        \n",
       "   float64     float32    int32   ...  float32   float32        float32       \n",
       "------------- --------- --------- ... --------- --------- --------------------\n",
       "169.520776917 0.0033015      2965 ... 0.0757166  0.221369 0.807526 .. 0.324147"
      ]
     },
     "execution_count": 12,
     "metadata": {},
     "output_type": "execute_result"
    }
   ],
   "source": [
    "# Inspect table \n",
    "t[:1]"
   ]
  },
  {
   "cell_type": "markdown",
   "metadata": {},
   "source": [
    "### Note: The RAW_CNTS, FLUX, FLUX_ERR, etc columns have different size of arrays for different fits files :( Therefore the below Schema for target pixel files is appropriate only for this particular fits file."
   ]
  },
  {
   "cell_type": "markdown",
   "metadata": {},
   "source": [
    "# Import *Kepler* lightcurves into LSD"
   ]
  },
  {
   "cell_type": "markdown",
   "metadata": {},
   "source": [
    "## Inspect lightcurve Table Schema `kplr_llc.yaml`"
   ]
  },
  {
   "cell_type": "code",
   "execution_count": 13,
   "metadata": {
    "collapsed": false
   },
   "outputs": [
    {
     "name": "stdout",
     "output_type": "stream",
     "text": [
      "# Schema for Kepler lightcurves\r\n",
      "filters: {complevel: 5, complib: blosc}\r\n",
      "schema:\r\n",
      "  common:\r\n",
      "    primary_key: obj_id\r\n",
      "    spatial_keys: [obj_id, cadenceno]\r\n",
      "    columns:\r\n",
      "    - [obj_id, u8]\r\n",
      "    - [time, f8]\r\n",
      "    - [timecorr, f4]\r\n",
      "    - [cadenceno, i4]\r\n",
      "  photometry: \r\n",
      "    columns:\r\n",
      "    - [sap_flux, f4]\r\n",
      "    - [sap_flux_err, f4]\r\n",
      "    - [sap_bkg, f4]\r\n",
      "    - [sap_bkg_err, f4]\r\n",
      "    - [pdcsap_flux, f4]\r\n",
      "    - [pdcsap_flux_err, f4]\r\n",
      "    - [sap_quality, i4]\r\n",
      "    - [psf_centr1, f8]\r\n",
      "    - [psf_centr1_err, f4]\r\n",
      "    - [psf_centr2, f8]\r\n",
      "    - [psf_centr2_err, f4]\r\n",
      "  telemetry:\r\n",
      "    columns:\r\n",
      "    - [mom_centr1, f8]\r\n",
      "    - [mom_centr1_err, f4]\r\n",
      "    - [mom_centr2, f8]\r\n",
      "    - [mom_centr2_err, f4]\r\n",
      "    - [pos_corr1, f4]\r\n",
      "    - [pos_corr2, f4]\r\n",
      "    "
     ]
    }
   ],
   "source": [
    "! cat kplr_llc.yaml"
   ]
  },
  {
   "cell_type": "markdown",
   "metadata": {},
   "source": [
    "## Create empty LSD table"
   ]
  },
  {
   "cell_type": "code",
   "execution_count": 14,
   "metadata": {
    "collapsed": false
   },
   "outputs": [
    {
     "name": "stdout",
     "output_type": "stream",
     "text": [
      "Table 'kplr_llc' dropped.\n",
      "\n",
      "-------- committing 20160313020454.693762 [kplr_llc] ---------\n",
      "[kplr_llc] Updating tablet catalog: [256 el.]::::::::::::::::::::>  0.25 sec\n",
      "[kplr_llc] Updating neighbors: Already up to date.\n",
      "[kplr_llc] Updating tablet catalog: [256 el.]::::::::::::::::::::>  0.26 sec\n",
      "[kplr_llc] Updating stats: [0 el.]>  0.00 sec\n",
      "[kplr_llc] Marking tablets read-only...\n",
      "----------- success 20160313020454.693762 [kplr_llc] ---------\n",
      "\n",
      "Table 'kplr_llc' created.\n"
     ]
    }
   ],
   "source": [
    "! lsd-admin create table --drop-existing --schema kplr_llc.yaml kplr_llc"
   ]
  },
  {
   "cell_type": "markdown",
   "metadata": {},
   "source": [
    "## Import fits file into new LSD table"
   ]
  },
  {
   "cell_type": "code",
   "execution_count": 15,
   "metadata": {
    "collapsed": false
   },
   "outputs": [
    {
     "name": "stdout",
     "output_type": "stream",
     "text": [
      "Importing from 1 pieces:\n",
      "  ===> Imported kplr000757076-2009131105131_llc.fits                                   [1/1, 100.00%] +    476/476           476 (0/0 min.)\n",
      "done\n",
      "\n",
      "-------- committing 20160313020458.436753 [kplr_llc] ---------\n",
      "[kplr_llc] Updating tablet catalog: [256 el.]::::::::::::::::::::>  0.27 sec\n",
      "[kplr_llc] Updating neighbors: [49 el.]::::::::::::::::::::[203 el.]++++++++++++++++++++>  2.60 sec\n",
      "           Total 4237 cached objects in 203 cells\n",
      "[kplr_llc] Updating tablet catalog: [256 el.]::::::::::::::::::::>  0.33 sec\n",
      "[kplr_llc] Updating stats: [203 el.]::::::::::::::::::::>  0.06 sec [203 el.]::::::::::::::::::::>  0.25 sec\n",
      "[kplr_llc] Marking tablets read-only...\n",
      "----------- success 20160313020458.436753 [kplr_llc] ---------\n",
      "\n"
     ]
    }
   ],
   "source": [
    "! lsd-import fits kplr_llc kplr000757076-2009131105131_llc.fits"
   ]
  },
  {
   "cell_type": "markdown",
   "metadata": {},
   "source": [
    "# Import *Kepler* Target Pixel File into LSD"
   ]
  },
  {
   "cell_type": "markdown",
   "metadata": {},
   "source": [
    "## Inspect Target Pixel File Table Schema `kplr_lpd.yaml`"
   ]
  },
  {
   "cell_type": "code",
   "execution_count": 16,
   "metadata": {
    "collapsed": false
   },
   "outputs": [
    {
     "name": "stdout",
     "output_type": "stream",
     "text": [
      "# Schema for Kepler target pixel files\r\n",
      "filters: {complevel: 5, complib: blosc}\r\n",
      "schema:\r\n",
      "  common:\r\n",
      "    primary_key: obj_id\r\n",
      "    spatial_keys: [obj_id, cadenceno]\r\n",
      "    columns:\r\n",
      "    - [obj_id, u8]\r\n",
      "    - [time, f8]\r\n",
      "    - [timecorr, f4]\r\n",
      "    - [cadenceno, i4]\r\n",
      "    - [cosmic_rays, '(4,6)f4']\r\n",
      "    - [quality, i4]\r\n",
      "    - [pos_corr1, f4]\r\n",
      "    - [pos_corr2, f4]\r\n",
      "    - [rb_level, '(4,5)f4']\r\n",
      "  photometry: \r\n",
      "    columns:\r\n",
      "    - [raw_cnts, '(4,6)i4']\r\n",
      "    - [flux, '(4,6)f4']\r\n",
      "    - [flux_err, '(4,6)f4']\r\n",
      "    - [flux_bkg, '(4,6)f4']\r\n",
      "    - [flux_bkg_err, '(4,6)f4']\r\n",
      "    "
     ]
    }
   ],
   "source": [
    "! cat kplr_lpd.yaml"
   ]
  },
  {
   "cell_type": "markdown",
   "metadata": {},
   "source": [
    "## Create empty LSD table"
   ]
  },
  {
   "cell_type": "code",
   "execution_count": 17,
   "metadata": {
    "collapsed": false
   },
   "outputs": [
    {
     "name": "stdout",
     "output_type": "stream",
     "text": [
      "Table 'kplr_lpd' dropped.\n",
      "\n",
      "-------- committing 20160313020509.990818 [kplr_lpd] ---------\n",
      "[kplr_lpd] Updating tablet catalog: [256 el.]::::::::::::::::::::>  0.24 sec\n",
      "[kplr_lpd] Updating neighbors: Already up to date.\n",
      "[kplr_lpd] Updating tablet catalog: [256 el.]::::::::::::::::::::>  0.24 sec\n",
      "[kplr_lpd] Updating stats: [0 el.]>  0.00 sec\n",
      "[kplr_lpd] Marking tablets read-only...\n",
      "----------- success 20160313020509.990818 [kplr_lpd] ---------\n",
      "\n",
      "Table 'kplr_lpd' created.\n"
     ]
    }
   ],
   "source": [
    "! lsd-admin create table --drop-existing --schema kplr_lpd.yaml kplr_lpd"
   ]
  },
  {
   "cell_type": "markdown",
   "metadata": {},
   "source": [
    "## Import fits file into new LSD table"
   ]
  },
  {
   "cell_type": "code",
   "execution_count": 18,
   "metadata": {
    "collapsed": false
   },
   "outputs": [
    {
     "name": "stdout",
     "output_type": "stream",
     "text": [
      "Importing from 1 pieces:\n",
      "  ===> Imported kplr001429092-2009259160929_lpd-targ.fits.gz                           [1/1, 100.00%] +   4354/4354         4354 (0/0 min.)\n",
      "done\n",
      "\n",
      "-------- committing 20160313020513.713489 [kplr_lpd] ---------\n",
      "[kplr_lpd] Updating tablet catalog: [256 el.]::::::::::::::::::::>  0.30 sec\n",
      "[kplr_lpd] Updating neighbors: [49 el.]::::::::::::::::::::[203 el.]++++++++++++++++++++>  2.40 sec\n",
      "           Total 39888 cached objects in 203 cells\n",
      "[kplr_lpd] Updating tablet catalog: [256 el.]::::::::::::::::::::>  0.40 sec\n",
      "[kplr_lpd] Updating stats: [203 el.]::::::::::::::::::::>  0.06 sec [203 el.]::::::::::::::::::::>  0.32 sec\n",
      "[kplr_lpd] Marking tablets read-only...\n",
      "----------- success 20160313020513.713489 [kplr_lpd] ---------\n",
      "\n"
     ]
    }
   ],
   "source": [
    "! lsd-import fits kplr_lpd kplr001429092-2009259160929_lpd-targ.fits.gz"
   ]
  },
  {
   "cell_type": "code",
   "execution_count": null,
   "metadata": {
    "collapsed": true
   },
   "outputs": [],
   "source": []
  }
 ],
 "metadata": {
  "kernelspec": {
   "display_name": "Python 2",
   "language": "python",
   "name": "python2"
  },
  "language_info": {
   "codemirror_mode": {
    "name": "ipython",
    "version": 2
   },
   "file_extension": ".py",
   "mimetype": "text/x-python",
   "name": "python",
   "nbconvert_exporter": "python",
   "pygments_lexer": "ipython2",
   "version": "2.7.11"
  }
 },
 "nbformat": 4,
 "nbformat_minor": 0
}
