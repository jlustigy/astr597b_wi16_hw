{
 "cells": [
  {
   "cell_type": "markdown",
   "metadata": {},
   "source": [
    "# Homework #1\n",
    "\n",
    "**Author:** Jacob Lustig-Yaeger\n",
    "\n",
    "**Due:** Feb 16th 2015"
   ]
  },
  {
   "cell_type": "markdown",
   "metadata": {},
   "source": [
    "# Problem 1: Querying and data analysis with SDSS  \n",
    "Open an account on the SDSS Catalog Access Service (CAS) website, http://skyserver.sdss.org/CasJobs/. The documentation for CAS is at http://skyserver.sdss.org/casjobs/Guide.aspx, and the documentation showing the contents of various *tables* and *views* -- also known as the *schema browser* -- is at http://skyserver.sdss.org/dr12/en/help/browser/browser.aspx. As we've discussed, you may think of \"views\" (below) as tables."
   ]
  },
  {
   "cell_type": "markdown",
   "metadata": {},
   "source": [
    "## Task 1:  \n",
    ">Use the schema browser to familiarize yourself with the contents of a view named `Star`. Then:\n",
    "   * Write (and execute) an SQL query to count how many stars have been observed with SDSS (in the current Data Release 12).  \n",
    "\n",
    "```\n",
    "-- Unflitered All Sky Query\n",
    "select\n",
    "    s.objid\n",
    "    \n",
    "from\n",
    "    Star s\n",
    "\n",
    "into\n",
    "    mydb.stars\n",
    "```\n",
    "   \n",
    "   * Write (and execute) an SQL query to count how many observations there are in `u`, `g`, `r`, `i` and `z` bands, and the average observed magnitude in each band. How does the SDSS database record missing (magnitude) data?"
   ]
  },
  {
   "cell_type": "code",
   "execution_count": null,
   "metadata": {
    "collapsed": true
   },
   "outputs": [],
   "source": []
  }
 ],
 "metadata": {
  "kernelspec": {
   "display_name": "Python 2",
   "language": "python",
   "name": "python2"
  },
  "language_info": {
   "codemirror_mode": {
    "name": "ipython",
    "version": 2
   },
   "file_extension": ".py",
   "mimetype": "text/x-python",
   "name": "python",
   "nbconvert_exporter": "python",
   "pygments_lexer": "ipython2",
   "version": "2.7.11"
  }
 },
 "nbformat": 4,
 "nbformat_minor": 0
}
